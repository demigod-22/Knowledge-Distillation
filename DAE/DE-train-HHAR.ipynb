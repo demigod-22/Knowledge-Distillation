{
 "cells": [
  {
   "cell_type": "code",
   "execution_count": null,
   "id": "9d7460ff-3b86-4bfd-8ca7-2f476ef7b595",
   "metadata": {},
   "outputs": [],
   "source": [
    "import os\n",
    "import random\n",
    "from os.path import join\n",
    "from time import time\n",
    "\n",
    "import numpy as np\n",
    "import pandas as pd\n",
    "import torch\n",
    "from tensorflow.keras.utils import to_categorical\n",
    "from torch import optim\n",
    "from torch.nn import BCELoss\n",
    "from torch.optim import Adam\n",
    "from torch.utils.data import TensorDataset\n",
    "from sklearn.preprocessing import MinMaxScaler\n",
    "from sklearn.model_selection import train_test_split\n",
    "\n",
    "from models.de_HHAR import DAE\n",
    "from models.dis_z import DIS_Z\n",
    "from models.activity_recognition import *\n",
    "from utils.function import *"
   ]
  },
  {
   "cell_type": "code",
   "execution_count": null,
   "id": "3315146a-b34e-4de1-92b0-5476dfd7706f",
   "metadata": {},
   "outputs": [],
   "source": [
    "os.environ[\"CUDA_DEVICE_ORDER\"]=\"PCI_BUS_ID\";\n",
    "os.environ[\"CUDA_VISIBLE_DEVICES\"]=str(0); "
   ]
  },
  {
   "cell_type": "code",
   "execution_count": null,
   "id": "a1f74b96-c0f1-49f7-80e3-fec97098e536",
   "metadata": {},
   "outputs": [],
   "source": [
    "class Args:\n",
    "    def __init__(self):\n",
    "        self.root = '../data'\n",
    "        self.batchSize = 64\n",
    "        self.maxEpochs = 200\n",
    "        self.nz = 200\n",
    "        self.lr = 1e-4\n",
    "        self.fSize = 64\n",
    "        self.outDir = 'data/experiments/DAE_EVAL_HHAR_Noise'\n",
    "        self.commit = 'eval'\n",
    "        self.alpha = 1.0\n",
    "        self.M = 5\n",
    "        self.loss = 'MSE' #'BCE'\n",
    "        self.loadDAE = False\n",
    "        self.loadSVM = False    \n",
    "        self.load_DAE_from = None\n",
    "        self.evalMode = False\n",
    "        self.comment = ''\n",
    "        self.momentum = 0.1\n",
    "        self.c = 0.01\n",
    "        self.svmLR = 1e-4\n",
    "        self.Ntest = 100\n",
    "        self.gpuNo = 0\n",
    "        self.multimodalZ = False\n",
    "        self.imSize = 64\n",
    "        self.sigma = [0.1]\n",
    "        self.train_split = 0.8\n",
    "random_seed=0"
   ]
  },
  {
   "cell_type": "code",
   "execution_count": null,
   "id": "55728fc3-e00f-4aff-9d7d-258842ef04a8",
   "metadata": {},
   "outputs": [],
   "source": [
    "def build_dis(args, dae, multimodalZ):\n",
    "    if not multimodalZ:\n",
    "        print('\\n ** USING NORMAL PRIOR **')\n",
    "        prior = dae.norm_prior\n",
    "        NZ = args.nz\n",
    "    else:\n",
    "        print('\\n ** USING MULTIMODAL PRIOR **')\n",
    "        prior = dae.multi_prior\n",
    "        NZ = 2\n",
    "    dis = DIS_Z(nz=NZ, prior=prior)\n",
    "\n",
    "    return dis, NZ"
   ]
  },
  {
   "cell_type": "code",
   "execution_count": null,
   "id": "4ab6becd-47e6-421e-bba3-cda623ab8839",
   "metadata": {},
   "outputs": [],
   "source": [
    "data_folder_path='../../../Dataset/'\n",
    "X_total = np.load(data_folder_path + 'hhar_time_X.npy').astype('float32')\n",
    "y_total = np.load(data_folder_path + 'hhar_time_y.npy').astype(int)\n",
    "\n",
    "X_total=np.nan_to_num(X_total)\n",
    "for i in range(X_total.shape[1]):\n",
    "    ch_data = X_total[:,i,:] # the data of channel id\n",
    "    scaler = MinMaxScaler()\n",
    "    ch_data = scaler.fit_transform(ch_data) # scale the data in this channel to [0,1]\n",
    "    X_total[:,i,:] = ch_data # assign normalized data to normalized_X     \n",
    "\n",
    "X_train, X_test, y_train, y_test = train_test_split(X_total, y_total, test_size=0.2, random_state=random_seed)"
   ]
  },
  {
   "cell_type": "code",
   "execution_count": null,
   "id": "2d94cc3e-daa5-44e8-946c-cd272e0f6b6e",
   "metadata": {},
   "outputs": [],
   "source": [
    "X_train = X_train.reshape(X_train.shape[0], 1, X_train.shape[1], X_train.shape[2])\n",
    "X_test = X_test.reshape(X_test.shape[0], 1, X_test.shape[1], X_test.shape[2])"
   ]
  },
  {
   "cell_type": "code",
   "execution_count": null,
   "id": "59be9937-93da-4ebb-9d21-fde161b3ad9a",
   "metadata": {},
   "outputs": [],
   "source": [
    "def prepare_dataloaders(args, X_train, X_test, y_train, y_test):\n",
    "    trainDataset = TensorDataset(torch.from_numpy(X_train), torch.from_numpy(y_train))\n",
    "    testDataset = TensorDataset(torch.from_numpy(X_test), torch.from_numpy(y_test))\n",
    "    \n",
    "    trainLoader = torch.utils.data.DataLoader(trainDataset,\n",
    "        batch_size=args.batchSize, shuffle=True) \n",
    "\n",
    "    testLoader = torch.utils.data.DataLoader(testDataset,\n",
    "        batch_size=args.batchSize, shuffle=False)\n",
    "    return trainLoader, testLoader"
   ]
  },
  {
   "cell_type": "code",
   "execution_count": null,
   "id": "38fab823-f472-4620-bf9e-29e8ba54a792",
   "metadata": {},
   "outputs": [],
   "source": [
    "def train_dae(args, exDir, trainLoader, testLoader):\n",
    "    dae = DAE(nz=args.nz, imSize=args.imSize, fSize=args.fSize, sigma=args.sigma, multimodalZ=args.multimodalZ) #sigma=level of corruption\n",
    "    \n",
    "    if dae.useCUDA:\n",
    "        torch.cuda.set_device(args.gpuNo)\n",
    "        dae.cuda()\n",
    "    \n",
    "    save_input_args(exDir, args)  #save training opts\n",
    "    save_exp_details(args, exDir)\n",
    "\n",
    "    # Create optimizers\n",
    "    optimDAE = optim.RMSprop(dae.parameters(), lr = args.lr, momentum=args.momentum)\n",
    "\n",
    "    # Keeping track of training\n",
    "    losses = {'enc': [], 'rec': [], 'dis':[], 'test rec':[]}\n",
    "\n",
    "    with torch.autograd.set_detect_anomaly(True):\n",
    "        for e in range(args.maxEpochs):\n",
    "\n",
    "            epochEncLoss=0\n",
    "            epochRecLoss=0\n",
    "            epochDisLoss=0\n",
    "            epochKlLoss=0\n",
    "\n",
    "            for i, data in enumerate(trainLoader):\n",
    "                T = time()\n",
    "                dae.train()\n",
    "                x, y = prep_data(data, useCUDA=dae.useCUDA)\n",
    "                zFake, xRec = dae.forward(x)\n",
    "                recLoss = dae.rec_loss(xRec, x, loss=args.loss)  #loss='BCE' or 'MSE'\n",
    "                optimDAE.zero_grad()\n",
    "                recLoss.backward()\n",
    "                optimDAE.step()            \n",
    "                epochRecLoss+=recLoss.detach().cpu().numpy()\n",
    "            \n",
    "                if i%100 == 0:\n",
    "                    print('[%d, %d] rec: %0.5f, time: %0.3f' % (e, i, recLoss.detach().cpu().numpy(), time() - T))                    \n",
    "\n",
    "            losses['rec'].append(epochRecLoss/i)\n",
    "\n",
    "            # Test\n",
    "            # dae.eval()\n",
    "\n",
    "            # Save parameters\n",
    "            dae.save_params(exDir)"
   ]
  },
  {
   "cell_type": "code",
   "execution_count": null,
   "id": "27de6c49-c3df-4507-81fe-52382824b5c9",
   "metadata": {},
   "outputs": [],
   "source": [
    "# if __name__ == \"__main__\":\n",
    "args = Args()\n",
    "args.random_seed = random_seed\n",
    "random.seed(args.random_seed)\n",
    "np.random.seed(args.random_seed)\n",
    "torch.manual_seed(args.random_seed)\n",
    "\n",
    "print(X_train.shape)\n",
    "print(y_train.shape)\n",
    "trainLoader, testLoader = prepare_dataloaders(args, X_train, X_test, y_train, y_test)\n",
    "\n",
    "exDir = make_new_folder(args.outDir)\n",
    "print('Outputs will be saved to:', exDir)"
   ]
  },
  {
   "cell_type": "code",
   "execution_count": null,
   "id": "89150e80-1718-4a62-8cd9-e0bcabcf6c63",
   "metadata": {},
   "outputs": [],
   "source": [
    "train_dae(args, exDir, trainLoader, testLoader)"
   ]
  }
 ],
 "metadata": {
  "kernelspec": {
   "display_name": "Python 3 (ipykernel)",
   "language": "python",
   "name": "python3"
  },
  "language_info": {
   "codemirror_mode": {
    "name": "ipython",
    "version": 3
   },
   "file_extension": ".py",
   "mimetype": "text/x-python",
   "name": "python",
   "nbconvert_exporter": "python",
   "pygments_lexer": "ipython3",
   "version": "3.8.15"
  }
 },
 "nbformat": 4,
 "nbformat_minor": 5
}
